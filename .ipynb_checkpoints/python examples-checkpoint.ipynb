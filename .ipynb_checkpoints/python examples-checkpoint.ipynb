{
 "cells": [
  {
   "cell_type": "code",
   "execution_count": 186,
   "metadata": {},
   "outputs": [],
   "source": [
    "from difflib import get_close_matches"
   ]
  },
  {
   "cell_type": "code",
   "execution_count": 20,
   "metadata": {},
   "outputs": [
    {
     "ename": "SyntaxError",
     "evalue": "invalid syntax (<ipython-input-20-64eb3c309d14>, line 1)",
     "output_type": "error",
     "traceback": [
      "\u001b[1;36m  File \u001b[1;32m\"<ipython-input-20-64eb3c309d14>\"\u001b[1;36m, line \u001b[1;32m1\u001b[0m\n\u001b[1;33m    if x= = True:\u001b[0m\n\u001b[1;37m        ^\u001b[0m\n\u001b[1;31mSyntaxError\u001b[0m\u001b[1;31m:\u001b[0m invalid syntax\n"
     ]
    }
   ],
   "source": [
    "if x= = True:\n",
    "    print(\"yes\")\n",
    "else:\n",
    "    print(\"NO\")"
   ]
  },
  {
   "cell_type": "code",
   "execution_count": 21,
   "metadata": {},
   "outputs": [
    {
     "ename": "SyntaxError",
     "evalue": "invalid syntax (<ipython-input-21-5f52a197e7b7>, line 1)",
     "output_type": "error",
     "traceback": [
      "\u001b[1;36m  File \u001b[1;32m\"<ipython-input-21-5f52a197e7b7>\"\u001b[1;36m, line \u001b[1;32m1\u001b[0m\n\u001b[1;33m    if x= =True:\u001b[0m\n\u001b[1;37m        ^\u001b[0m\n\u001b[1;31mSyntaxError\u001b[0m\u001b[1;31m:\u001b[0m invalid syntax\n"
     ]
    }
   ],
   "source": [
    "if x= =True:\n",
    "    print(\"yes\")\n",
    "else:\n",
    "    print(\"NO\")"
   ]
  },
  {
   "cell_type": "code",
   "execution_count": 10,
   "metadata": {},
   "outputs": [
    {
     "name": "stdout",
     "output_type": "stream",
     "text": [
      "NO\n"
     ]
    }
   ],
   "source": [
    "x=1\n",
    "if x==False:\n",
    "    print(\"yes\")\n",
    "else:\n",
    "    print(\"NO\")"
   ]
  },
  {
   "cell_type": "code",
   "execution_count": 11,
   "metadata": {},
   "outputs": [
    {
     "name": "stdout",
     "output_type": "stream",
     "text": [
      "NO\n"
     ]
    }
   ],
   "source": [
    "x=5\n",
    "if x==True:\n",
    "    print(\"yes\")\n",
    "else:\n",
    "    print(\"NO\")"
   ]
  },
  {
   "cell_type": "code",
   "execution_count": 25,
   "metadata": {},
   "outputs": [
    {
     "ename": "SyntaxError",
     "evalue": "invalid syntax (<ipython-input-25-80260e49781a>, line 2)",
     "output_type": "error",
     "traceback": [
      "\u001b[1;36m  File \u001b[1;32m\"<ipython-input-25-80260e49781a>\"\u001b[1;36m, line \u001b[1;32m2\u001b[0m\n\u001b[1;33m    if x=True:\u001b[0m\n\u001b[1;37m        ^\u001b[0m\n\u001b[1;31mSyntaxError\u001b[0m\u001b[1;31m:\u001b[0m invalid syntax\n"
     ]
    }
   ],
   "source": [
    "x='5'\n",
    "if x=True:\n",
    "    print(\"yes\")\n",
    "else:\n",
    "    print(\"NO\")"
   ]
  },
  {
   "cell_type": "code",
   "execution_count": 26,
   "metadata": {},
   "outputs": [
    {
     "ename": "SyntaxError",
     "evalue": "invalid syntax (<ipython-input-26-67d2cf190b70>, line 2)",
     "output_type": "error",
     "traceback": [
      "\u001b[1;36m  File \u001b[1;32m\"<ipython-input-26-67d2cf190b70>\"\u001b[1;36m, line \u001b[1;32m2\u001b[0m\n\u001b[1;33m    if x=True:\u001b[0m\n\u001b[1;37m        ^\u001b[0m\n\u001b[1;31mSyntaxError\u001b[0m\u001b[1;31m:\u001b[0m invalid syntax\n"
     ]
    }
   ],
   "source": [
    "x=5\n",
    "if x=True:\n",
    "    print(\"yes\")\n",
    "else:\n",
    "    print(\"NO\")"
   ]
  },
  {
   "cell_type": "code",
   "execution_count": 27,
   "metadata": {},
   "outputs": [
    {
     "name": "stdout",
     "output_type": "stream",
     "text": [
      "yes\n"
     ]
    }
   ],
   "source": [
    "if bool(True):\n",
    "    print('yes')\n",
    "else:\n",
    "    print('No')"
   ]
  },
  {
   "cell_type": "code",
   "execution_count": 28,
   "metadata": {},
   "outputs": [
    {
     "name": "stdout",
     "output_type": "stream",
     "text": [
      "No\n"
     ]
    }
   ],
   "source": [
    "if bool(False):\n",
    "    print('yes')\n",
    "else:\n",
    "    print('No')"
   ]
  },
  {
   "cell_type": "code",
   "execution_count": 29,
   "metadata": {},
   "outputs": [
    {
     "name": "stdout",
     "output_type": "stream",
     "text": [
      "yes\n"
     ]
    }
   ],
   "source": [
    "if True:\n",
    "    print('yes')\n",
    "else:\n",
    "    print('No')"
   ]
  },
  {
   "cell_type": "code",
   "execution_count": 36,
   "metadata": {},
   "outputs": [],
   "source": [
    "### no switch in python"
   ]
  },
  {
   "cell_type": "code",
   "execution_count": 34,
   "metadata": {},
   "outputs": [],
   "source": [
    "d = {\n",
    "    1:'1',\n",
    "    2:'2',\n",
    "    3:'3'\n",
    "}"
   ]
  },
  {
   "cell_type": "code",
   "execution_count": 35,
   "metadata": {},
   "outputs": [
    {
     "data": {
      "text/plain": [
       "dict_items([(1, '1'), (2, '2'), (3, '3')])"
      ]
     },
     "execution_count": 35,
     "metadata": {},
     "output_type": "execute_result"
    }
   ],
   "source": [
    "d.items() ## returns a list of tuples"
   ]
  },
  {
   "cell_type": "code",
   "execution_count": 39,
   "metadata": {},
   "outputs": [
    {
     "data": {
      "text/plain": [
       "False"
      ]
     },
     "execution_count": 39,
     "metadata": {},
     "output_type": "execute_result"
    }
   ],
   "source": [
    "a = 5==6\n",
    "a"
   ]
  },
  {
   "cell_type": "code",
   "execution_count": 40,
   "metadata": {},
   "outputs": [
    {
     "data": {
      "text/plain": [
       "True"
      ]
     },
     "execution_count": 40,
     "metadata": {},
     "output_type": "execute_result"
    }
   ],
   "source": [
    "a = 5==5\n",
    "a"
   ]
  },
  {
   "cell_type": "code",
   "execution_count": 41,
   "metadata": {},
   "outputs": [
    {
     "data": {
      "text/plain": [
       "False"
      ]
     },
     "execution_count": 41,
     "metadata": {},
     "output_type": "execute_result"
    }
   ],
   "source": [
    "a = 5=='5'\n",
    "a"
   ]
  },
  {
   "cell_type": "code",
   "execution_count": 42,
   "metadata": {},
   "outputs": [
    {
     "data": {
      "text/plain": [
       "True"
      ]
     },
     "execution_count": 42,
     "metadata": {},
     "output_type": "execute_result"
    }
   ],
   "source": [
    "a = 5==5.0\n",
    "a"
   ]
  },
  {
   "cell_type": "code",
   "execution_count": 46,
   "metadata": {},
   "outputs": [
    {
     "data": {
      "text/plain": [
       "False"
      ]
     },
     "execution_count": 46,
     "metadata": {},
     "output_type": "execute_result"
    }
   ],
   "source": [
    "a = 5==5.9\n",
    "a"
   ]
  },
  {
   "cell_type": "code",
   "execution_count": 47,
   "metadata": {},
   "outputs": [
    {
     "data": {
      "text/plain": [
       "True"
      ]
     },
     "execution_count": 47,
     "metadata": {},
     "output_type": "execute_result"
    }
   ],
   "source": [
    "a = 5==5.\n",
    "a"
   ]
  },
  {
   "cell_type": "code",
   "execution_count": 49,
   "metadata": {},
   "outputs": [
    {
     "name": "stdout",
     "output_type": "stream",
     "text": [
      "0 1 2 3 4 5 6 7 8 9 "
     ]
    }
   ],
   "source": [
    "for i in range(10):\n",
    "    print(i,end=' ')"
   ]
  },
  {
   "cell_type": "code",
   "execution_count": 52,
   "metadata": {},
   "outputs": [
    {
     "ename": "NameError",
     "evalue": "name 'xrange' is not defined",
     "output_type": "error",
     "traceback": [
      "\u001b[1;31m---------------------------------------------------------------------------\u001b[0m",
      "\u001b[1;31mNameError\u001b[0m                                 Traceback (most recent call last)",
      "\u001b[1;32m<ipython-input-52-e17bb36b258a>\u001b[0m in \u001b[0;36m<module>\u001b[1;34m\u001b[0m\n\u001b[0;32m      1\u001b[0m \u001b[1;31m# import xrange\u001b[0m\u001b[1;33m\u001b[0m\u001b[1;33m\u001b[0m\u001b[1;33m\u001b[0m\u001b[0m\n\u001b[1;32m----> 2\u001b[1;33m \u001b[1;32mfor\u001b[0m \u001b[0mi\u001b[0m \u001b[1;32min\u001b[0m \u001b[0mxrange\u001b[0m\u001b[1;33m(\u001b[0m\u001b[1;36m10\u001b[0m\u001b[1;33m)\u001b[0m\u001b[1;33m:\u001b[0m\u001b[1;33m\u001b[0m\u001b[1;33m\u001b[0m\u001b[0m\n\u001b[0m\u001b[0;32m      3\u001b[0m     \u001b[0mprint\u001b[0m\u001b[1;33m(\u001b[0m\u001b[0mi\u001b[0m\u001b[1;33m,\u001b[0m\u001b[0mend\u001b[0m\u001b[1;33m=\u001b[0m\u001b[1;34m' '\u001b[0m\u001b[1;33m)\u001b[0m\u001b[1;33m\u001b[0m\u001b[1;33m\u001b[0m\u001b[0m\n",
      "\u001b[1;31mNameError\u001b[0m: name 'xrange' is not defined"
     ]
    }
   ],
   "source": [
    "# import xrange\n",
    "for i in xrange(10):\n",
    "    print(i,end=' ')"
   ]
  },
  {
   "cell_type": "code",
   "execution_count": 53,
   "metadata": {},
   "outputs": [],
   "source": [
    "a = 3\n",
    "b = a"
   ]
  },
  {
   "cell_type": "code",
   "execution_count": 54,
   "metadata": {},
   "outputs": [],
   "source": [
    "b = 4"
   ]
  },
  {
   "cell_type": "code",
   "execution_count": 55,
   "metadata": {},
   "outputs": [
    {
     "data": {
      "text/plain": [
       "3"
      ]
     },
     "execution_count": 55,
     "metadata": {},
     "output_type": "execute_result"
    }
   ],
   "source": [
    "a"
   ]
  },
  {
   "cell_type": "code",
   "execution_count": 56,
   "metadata": {},
   "outputs": [
    {
     "data": {
      "text/plain": [
       "3"
      ]
     },
     "execution_count": 56,
     "metadata": {},
     "output_type": "execute_result"
    }
   ],
   "source": [
    "a = 3\n",
    "b = a\n",
    "a = 5\n",
    "b"
   ]
  },
  {
   "cell_type": "code",
   "execution_count": 57,
   "metadata": {},
   "outputs": [
    {
     "data": {
      "text/plain": [
       "3"
      ]
     },
     "execution_count": 57,
     "metadata": {},
     "output_type": "execute_result"
    }
   ],
   "source": [
    "a = 3\n",
    "b = a\n",
    "a = a+2\n",
    "b"
   ]
  },
  {
   "cell_type": "code",
   "execution_count": 58,
   "metadata": {},
   "outputs": [
    {
     "ename": "ValueError",
     "evalue": "invalid literal for int() with base 10: '10.8'",
     "output_type": "error",
     "traceback": [
      "\u001b[1;31m---------------------------------------------------------------------------\u001b[0m",
      "\u001b[1;31mValueError\u001b[0m                                Traceback (most recent call last)",
      "\u001b[1;32m<ipython-input-58-28ce17d70c46>\u001b[0m in \u001b[0;36m<module>\u001b[1;34m\u001b[0m\n\u001b[1;32m----> 1\u001b[1;33m \u001b[0mint\u001b[0m\u001b[1;33m(\u001b[0m\u001b[1;34m'10.8'\u001b[0m\u001b[1;33m,\u001b[0m\u001b[0mbase\u001b[0m\u001b[1;33m=\u001b[0m\u001b[1;36m10\u001b[0m\u001b[1;33m)\u001b[0m\u001b[1;33m\u001b[0m\u001b[1;33m\u001b[0m\u001b[0m\n\u001b[0m",
      "\u001b[1;31mValueError\u001b[0m: invalid literal for int() with base 10: '10.8'"
     ]
    }
   ],
   "source": [
    "int(10.8,base=10)"
   ]
  },
  {
   "cell_type": "code",
   "execution_count": 187,
   "metadata": {},
   "outputs": [],
   "source": [
    "final_words = ['rock','paper','scissor']"
   ]
  },
  {
   "cell_type": "code",
   "execution_count": 189,
   "metadata": {},
   "outputs": [],
   "source": [
    "def find_winner(a,b):\n",
    "    winner_combination = {\n",
    "        'rock':'paper',\n",
    "        'paper':'scissor',\n",
    "        'scissor':'rock'\n",
    "    }\n",
    "    if not a or not b:\n",
    "        print(\"You are not good with spellings!! Try again\")\n",
    "        return\n",
    "    print(a,\" Vs \",b)\n",
    "    if winner_combination[a]==b:\n",
    "        print('Winner is user B')\n",
    "    elif winner_combination[b]==a:\n",
    "        print(\"Winner is user A\")\n",
    "    else:\n",
    "        print(\"Draw\")"
   ]
  },
  {
   "cell_type": "code",
   "execution_count": 191,
   "metadata": {},
   "outputs": [
    {
     "name": "stdout",
     "output_type": "stream",
     "text": [
      "Let's play (Rock, Paper, Scissor)!\n",
      "Make any 2 choices:\n",
      "rock\n",
      "rock\n",
      "rock  Vs  rock\n",
      "Draw\n"
     ]
    }
   ],
   "source": [
    "print(\"Let's play (Rock, Paper, Scissor)!\\nMake any 2 choices:\")\n",
    "user_a,user_b = get_close_matches(input().lower(),final_words,n=1,cutoff=0.5)[0],get_close_matches(input().lower(),final_words,n=1,cutoff=0.5)[0]\n",
    "find_winner(user_a,user_b)"
   ]
  },
  {
   "cell_type": "code",
   "execution_count": 12,
   "metadata": {},
   "outputs": [
    {
     "data": {
      "text/plain": [
       "False"
      ]
     },
     "execution_count": 12,
     "metadata": {},
     "output_type": "execute_result"
    }
   ],
   "source": [
    "5 is 5.0"
   ]
  },
  {
   "cell_type": "code",
   "execution_count": 13,
   "metadata": {},
   "outputs": [],
   "source": [
    "import keyword"
   ]
  },
  {
   "cell_type": "code",
   "execution_count": 14,
   "metadata": {},
   "outputs": [
    {
     "data": {
      "text/plain": [
       "['False',\n",
       " 'None',\n",
       " 'True',\n",
       " 'and',\n",
       " 'as',\n",
       " 'assert',\n",
       " 'async',\n",
       " 'await',\n",
       " 'break',\n",
       " 'class',\n",
       " 'continue',\n",
       " 'def',\n",
       " 'del',\n",
       " 'elif',\n",
       " 'else',\n",
       " 'except',\n",
       " 'finally',\n",
       " 'for',\n",
       " 'from',\n",
       " 'global',\n",
       " 'if',\n",
       " 'import',\n",
       " 'in',\n",
       " 'is',\n",
       " 'lambda',\n",
       " 'nonlocal',\n",
       " 'not',\n",
       " 'or',\n",
       " 'pass',\n",
       " 'raise',\n",
       " 'return',\n",
       " 'try',\n",
       " 'while',\n",
       " 'with',\n",
       " 'yield']"
      ]
     },
     "execution_count": 14,
     "metadata": {},
     "output_type": "execute_result"
    }
   ],
   "source": [
    "keyword.kwlist"
   ]
  },
  {
   "cell_type": "code",
   "execution_count": 15,
   "metadata": {},
   "outputs": [],
   "source": [
    "assert \"something\""
   ]
  },
  {
   "cell_type": "code",
   "execution_count": 20,
   "metadata": {},
   "outputs": [],
   "source": [
    "def outerfunc():\n",
    "    a = 10    \n",
    "    def innerfunc():\n",
    "        # nonlocal binding\n",
    "        nonlocal a\n",
    "        a = 100\n",
    "            \n",
    "    # calling inner function\n",
    "    innerfunc()\n",
    "    # printing the value of a\n",
    "    print(\"a : \", a)"
   ]
  },
  {
   "cell_type": "code",
   "execution_count": 21,
   "metadata": {},
   "outputs": [
    {
     "name": "stdout",
     "output_type": "stream",
     "text": [
      "a :  100\n"
     ]
    }
   ],
   "source": [
    "outerfunc()"
   ]
  },
  {
   "cell_type": "code",
   "execution_count": 192,
   "metadata": {},
   "outputs": [],
   "source": [
    "def check_prime(n):\n",
    "    import math\n",
    "    for i in range(2,int(math.sqrt(n)+1)):\n",
    "        if n%i==0:\n",
    "            return False\n",
    "    return True\n",
    "\n",
    "def find_primes(n):\n",
    "    count = 0\n",
    "    j=2\n",
    "    while True:\n",
    "        if check_prime(j):\n",
    "            print(j)\n",
    "            count+=1\n",
    "            if count==n:\n",
    "                break;\n",
    "        j+=1\n",
    "\n",
    "def prime_number():\n",
    "    number = int(input(\"Enter a number : \"))\n",
    "    find_primes(number)"
   ]
  },
  {
   "cell_type": "code",
   "execution_count": 29,
   "metadata": {},
   "outputs": [
    {
     "name": "stdout",
     "output_type": "stream",
     "text": [
      "Enter a number : 5\n",
      "2\n",
      "3\n",
      "5\n",
      "7\n",
      "11\n"
     ]
    }
   ],
   "source": [
    "prime_number()"
   ]
  },
  {
   "cell_type": "code",
   "execution_count": 35,
   "metadata": {},
   "outputs": [
    {
     "data": {
      "text/plain": [
       "type"
      ]
     },
     "execution_count": 35,
     "metadata": {},
     "output_type": "execute_result"
    }
   ],
   "source": [
    "import pandas as pd"
   ]
  },
  {
   "cell_type": "code",
   "execution_count": 38,
   "metadata": {},
   "outputs": [
    {
     "ename": "RuntimeError",
     "evalue": "asyncio.run() cannot be called from a running event loop",
     "output_type": "error",
     "traceback": [
      "\u001b[1;31m---------------------------------------------------------------------------\u001b[0m",
      "\u001b[1;31mRuntimeError\u001b[0m                              Traceback (most recent call last)",
      "\u001b[1;32m<ipython-input-38-b9230da3c983>\u001b[0m in \u001b[0;36m<module>\u001b[1;34m\u001b[0m\n\u001b[0;32m      7\u001b[0m \u001b[1;33m\u001b[0m\u001b[0m\n\u001b[0;32m      8\u001b[0m \u001b[1;31m# Python 3.7+\u001b[0m\u001b[1;33m\u001b[0m\u001b[1;33m\u001b[0m\u001b[1;33m\u001b[0m\u001b[0m\n\u001b[1;32m----> 9\u001b[1;33m \u001b[0masyncio\u001b[0m\u001b[1;33m.\u001b[0m\u001b[0mrun\u001b[0m\u001b[1;33m(\u001b[0m\u001b[0mmain\u001b[0m\u001b[1;33m(\u001b[0m\u001b[1;33m)\u001b[0m\u001b[1;33m)\u001b[0m\u001b[1;33m\u001b[0m\u001b[1;33m\u001b[0m\u001b[0m\n\u001b[0m",
      "\u001b[1;32m~\\AppData\\Local\\Continuum\\anaconda3\\lib\\asyncio\\runners.py\u001b[0m in \u001b[0;36mrun\u001b[1;34m(main, debug)\u001b[0m\n\u001b[0;32m     32\u001b[0m     \u001b[1;32mif\u001b[0m \u001b[0mevents\u001b[0m\u001b[1;33m.\u001b[0m\u001b[0m_get_running_loop\u001b[0m\u001b[1;33m(\u001b[0m\u001b[1;33m)\u001b[0m \u001b[1;32mis\u001b[0m \u001b[1;32mnot\u001b[0m \u001b[1;32mNone\u001b[0m\u001b[1;33m:\u001b[0m\u001b[1;33m\u001b[0m\u001b[1;33m\u001b[0m\u001b[0m\n\u001b[0;32m     33\u001b[0m         raise RuntimeError(\n\u001b[1;32m---> 34\u001b[1;33m             \"asyncio.run() cannot be called from a running event loop\")\n\u001b[0m\u001b[0;32m     35\u001b[0m \u001b[1;33m\u001b[0m\u001b[0m\n\u001b[0;32m     36\u001b[0m     \u001b[1;32mif\u001b[0m \u001b[1;32mnot\u001b[0m \u001b[0mcoroutines\u001b[0m\u001b[1;33m.\u001b[0m\u001b[0miscoroutine\u001b[0m\u001b[1;33m(\u001b[0m\u001b[0mmain\u001b[0m\u001b[1;33m)\u001b[0m\u001b[1;33m:\u001b[0m\u001b[1;33m\u001b[0m\u001b[1;33m\u001b[0m\u001b[0m\n",
      "\u001b[1;31mRuntimeError\u001b[0m: asyncio.run() cannot be called from a running event loop"
     ]
    }
   ],
   "source": [
    "import asyncio\n",
    "\n",
    "async def main():\n",
    "    print('Hello ...')\n",
    "    await asyncio.sleep(1)\n",
    "    print('... World!')\n",
    "\n",
    "# Python 3.7+\n",
    "asyncio.run(main())"
   ]
  },
  {
   "cell_type": "code",
   "execution_count": 42,
   "metadata": {},
   "outputs": [
    {
     "name": "stdout",
     "output_type": "stream",
     "text": [
      "10\n",
      "10\n"
     ]
    }
   ],
   "source": [
    "# global a\n",
    "# a = 10\n",
    "def something():\n",
    "#     a = 100\n",
    "    print(a)\n",
    "print(a)\n",
    "something()"
   ]
  },
  {
   "cell_type": "code",
   "execution_count": 51,
   "metadata": {},
   "outputs": [
    {
     "name": "stdout",
     "output_type": "stream",
     "text": [
      "hellohello\n"
     ]
    },
    {
     "data": {
      "text/plain": [
       "'hellohello'"
      ]
     },
     "execution_count": 51,
     "metadata": {},
     "output_type": "execute_result"
    }
   ],
   "source": [
    "x = \"global\"\n",
    "\n",
    "def foo():\n",
    "    global x\n",
    "    x = \"hello\"\n",
    "    x = x * 2\n",
    "    print(x)\n",
    "foo()\n",
    "x"
   ]
  },
  {
   "cell_type": "code",
   "execution_count": 52,
   "metadata": {},
   "outputs": [],
   "source": [
    "def fun():\n",
    "    pass\n",
    "\n",
    "fun()"
   ]
  },
  {
   "cell_type": "code",
   "execution_count": 55,
   "metadata": {},
   "outputs": [],
   "source": [
    "def simpleGeneratorFun(): \n",
    "    return 1\n",
    "    yield 2\n",
    "    yield 3\n",
    "  \n",
    "# Driver code to check above generator function \n",
    "for value in simpleGeneratorFun():  \n",
    "    print(value) "
   ]
  },
  {
   "cell_type": "code",
   "execution_count": 49,
   "metadata": {},
   "outputs": [
    {
     "name": "stdout",
     "output_type": "stream",
     "text": [
      "21/06/2019\n",
      "01/03/2022\n"
     ]
    }
   ],
   "source": [
    "date_1 = input().split('/')\n",
    "date_2 = input().split('/')"
   ]
  },
  {
   "cell_type": "code",
   "execution_count": 64,
   "metadata": {},
   "outputs": [],
   "source": [
    "y=0\n",
    "m=0\n",
    "d=0\n",
    "\n",
    "if int(date_2[2])-int(date_1[2])>0:\n",
    "    y = int(date_2[2])-int(date_1[2])"
   ]
  },
  {
   "cell_type": "code",
   "execution_count": 66,
   "metadata": {},
   "outputs": [],
   "source": [
    "if int(date_2[1])-int(date_1[1])>0:\n",
    "    m = int(date_2[1])-int(date_1[1])\n",
    "else:\n",
    "    y = y-1\n",
    "    m = 12-int(date_1[1])+int(date_2[1])"
   ]
  },
  {
   "cell_type": "code",
   "execution_count": 68,
   "metadata": {},
   "outputs": [],
   "source": [
    "if int(date_2[0])-int(date_1[0])>0:\n",
    "    d = int(date_2[0])-int(date_1[0])\n",
    "else:\n",
    "    m-=1\n",
    "    d = 30-int(date_1[0])"
   ]
  },
  {
   "cell_type": "code",
   "execution_count": 69,
   "metadata": {},
   "outputs": [
    {
     "data": {
      "text/plain": [
       "(9, 8, 2)"
      ]
     },
     "execution_count": 69,
     "metadata": {},
     "output_type": "execute_result"
    }
   ],
   "source": [
    "d,m,y"
   ]
  },
  {
   "cell_type": "code",
   "execution_count": 1,
   "metadata": {},
   "outputs": [],
   "source": [
    "## Pattern programs"
   ]
  },
  {
   "cell_type": "code",
   "execution_count": 2,
   "metadata": {},
   "outputs": [],
   "source": [
    "### Triangle & its types"
   ]
  },
  {
   "cell_type": "code",
   "execution_count": 31,
   "metadata": {},
   "outputs": [
    {
     "name": "stdout",
     "output_type": "stream",
     "text": [
      "15\n"
     ]
    }
   ],
   "source": [
    "n = int(input())"
   ]
  },
  {
   "cell_type": "code",
   "execution_count": 32,
   "metadata": {},
   "outputs": [
    {
     "name": "stdout",
     "output_type": "stream",
     "text": [
      "\n",
      "* \n",
      "* * \n",
      "* * * \n",
      "* * * * \n",
      "* * * * * \n",
      "* * * * * * \n",
      "* * * * * * * \n",
      "* * * * * * * * \n",
      "* * * * * * * * * \n",
      "* * * * * * * * * * \n",
      "* * * * * * * * * * * \n",
      "* * * * * * * * * * * * \n",
      "* * * * * * * * * * * * * \n",
      "* * * * * * * * * * * * * * \n",
      "* * * * * * * * * * * * * * * \n"
     ]
    }
   ],
   "source": [
    "for i in range(n+1):\n",
    "    for j in range(i):\n",
    "        print(\"*\",end=\" \")\n",
    "    print()"
   ]
  },
  {
   "cell_type": "code",
   "execution_count": 33,
   "metadata": {},
   "outputs": [
    {
     "name": "stdout",
     "output_type": "stream",
     "text": [
      "* * * * * * * * * * * * * * * * \n",
      "* * * * * * * * * * * * * * * \n",
      "* * * * * * * * * * * * * * \n",
      "* * * * * * * * * * * * * \n",
      "* * * * * * * * * * * * \n",
      "* * * * * * * * * * * \n",
      "* * * * * * * * * * \n",
      "* * * * * * * * * \n",
      "* * * * * * * * \n",
      "* * * * * * * \n",
      "* * * * * * \n",
      "* * * * * \n",
      "* * * * \n",
      "* * * \n",
      "* * \n",
      "* \n",
      "\n"
     ]
    }
   ],
   "source": [
    "for i in range(n+1,-1,-1):\n",
    "    for j in range(i):\n",
    "        print(\"*\",end=\" \")\n",
    "    print()"
   ]
  },
  {
   "cell_type": "code",
   "execution_count": 34,
   "metadata": {},
   "outputs": [
    {
     "name": "stdout",
     "output_type": "stream",
     "text": [
      "               \n",
      "              * \n",
      "             * * \n",
      "            * * * \n",
      "           * * * * \n",
      "          * * * * * \n",
      "         * * * * * * \n",
      "        * * * * * * * \n",
      "       * * * * * * * * \n",
      "      * * * * * * * * * \n",
      "     * * * * * * * * * * \n",
      "    * * * * * * * * * * * \n",
      "   * * * * * * * * * * * * \n",
      "  * * * * * * * * * * * * * \n",
      " * * * * * * * * * * * * * * \n",
      "* * * * * * * * * * * * * * * \n"
     ]
    }
   ],
   "source": [
    "for i in range(n+1):\n",
    "    for j in range(n-i):\n",
    "        print(end=' ')\n",
    "    for k in range(i):\n",
    "        print(\"*\",end=' ')\n",
    "    print()"
   ]
  },
  {
   "cell_type": "code",
   "execution_count": 77,
   "metadata": {},
   "outputs": [
    {
     "name": "stdout",
     "output_type": "stream",
     "text": [
      "* * * * * * * * * * * * * * * * \n",
      " * * * * * * * * * * * * * * * \n",
      "  * * * * * * * * * * * * * * \n",
      "   * * * * * * * * * * * * * \n",
      "    * * * * * * * * * * * * \n",
      "     * * * * * * * * * * * \n",
      "      * * * * * * * * * * \n",
      "       * * * * * * * * * \n",
      "        * * * * * * * * \n",
      "         * * * * * * * \n",
      "          * * * * * * \n",
      "           * * * * * \n",
      "            * * * * \n",
      "             * * * \n",
      "              * * \n",
      "               * \n",
      "                \n"
     ]
    }
   ],
   "source": [
    "for i in range(n+1,-1,-1):\n",
    "    for j in range(n-i+1):\n",
    "        print(end=' ')\n",
    "    for k in range(i):\n",
    "        print(\"*\",end=' ')\n",
    "    print()"
   ]
  },
  {
   "cell_type": "code",
   "execution_count": 36,
   "metadata": {},
   "outputs": [
    {
     "name": "stdout",
     "output_type": "stream",
     "text": [
      "                              \n",
      "                            * \n",
      "                          * * \n",
      "                        * * * \n",
      "                      * * * * \n",
      "                    * * * * * \n",
      "                  * * * * * * \n",
      "                * * * * * * * \n",
      "              * * * * * * * * \n",
      "            * * * * * * * * * \n",
      "          * * * * * * * * * * \n",
      "        * * * * * * * * * * * \n",
      "      * * * * * * * * * * * * \n",
      "    * * * * * * * * * * * * * \n",
      "  * * * * * * * * * * * * * * \n",
      "* * * * * * * * * * * * * * * \n"
     ]
    }
   ],
   "source": [
    "for i in range(n+1):\n",
    "    space = n-i\n",
    "    for sp in range(space):\n",
    "        print(end='  ')\n",
    "    for j in range(i):\n",
    "        print(\"*\",end=' ')\n",
    "    print()"
   ]
  },
  {
   "cell_type": "code",
   "execution_count": 37,
   "metadata": {},
   "outputs": [
    {
     "name": "stdout",
     "output_type": "stream",
     "text": [
      "  * * * * * * * * * * * * * * * * \n",
      "    * * * * * * * * * * * * * * * \n",
      "      * * * * * * * * * * * * * * \n",
      "        * * * * * * * * * * * * * \n",
      "          * * * * * * * * * * * * \n",
      "            * * * * * * * * * * * \n",
      "              * * * * * * * * * * \n",
      "                * * * * * * * * * \n",
      "                  * * * * * * * * \n",
      "                    * * * * * * * \n",
      "                      * * * * * * \n",
      "                        * * * * * \n",
      "                          * * * * \n",
      "                            * * * \n",
      "                              * * \n",
      "                                * \n",
      "                                  \n"
     ]
    }
   ],
   "source": [
    "space = 1\n",
    "for i in range(n+1,-1,-1):\n",
    "    for sp in range(space):\n",
    "        print(end='  ')\n",
    "    space+=1\n",
    "    for j in range(i):\n",
    "        print(\"*\",end=' ')\n",
    "    print()"
   ]
  },
  {
   "cell_type": "code",
   "execution_count": 38,
   "metadata": {},
   "outputs": [
    {
     "name": "stdout",
     "output_type": "stream",
     "text": [
      "1\n",
      "153\n",
      "370\n",
      "371\n",
      "407\n"
     ]
    }
   ],
   "source": [
    "## armstrong number \n",
    "\n",
    "for i in range(1,10000000):\n",
    "    sums=0\n",
    "    cube=1\n",
    "    num=i\n",
    "    while num>0:\n",
    "        rem=num%10\n",
    "        num=num//10\n",
    "        sums+=(rem*rem*rem)\n",
    "    if i==sums:\n",
    "        print(i)"
   ]
  },
  {
   "cell_type": "code",
   "execution_count": 39,
   "metadata": {},
   "outputs": [
    {
     "name": "stdout",
     "output_type": "stream",
     "text": [
      "\n",
      "* \n",
      "* * \n",
      "* * * \n",
      "* * * * \n",
      "* * * * * \n",
      "* * * * * * \n",
      "* * * * * * * \n",
      "* * * * * * * * \n",
      "* * * * * * * * * \n",
      "* * * * * * * * * * \n",
      "* * * * * * * * * * * \n",
      "* * * * * * * * * * * * \n",
      "* * * * * * * * * * * * * \n",
      "* * * * * * * * * * * * * * \n",
      "* * * * * * * * * * * * * * * \n",
      "* * * * * * * * * * * * * * * * \n",
      "* * * * * * * * * * * * * * * \n",
      "* * * * * * * * * * * * * * \n",
      "* * * * * * * * * * * * * \n",
      "* * * * * * * * * * * * \n",
      "* * * * * * * * * * * \n",
      "* * * * * * * * * * \n",
      "* * * * * * * * * \n",
      "* * * * * * * * \n",
      "* * * * * * * \n",
      "* * * * * * \n",
      "* * * * * \n",
      "* * * * \n",
      "* * * \n",
      "* * \n",
      "* \n",
      "\n"
     ]
    }
   ],
   "source": [
    "for i in range(n+1):\n",
    "    for j in range(i):\n",
    "        print(\"*\",end=\" \")\n",
    "    print()\n",
    "for i in range(n+1,-1,-1):\n",
    "    for j in range(i):\n",
    "        print(\"*\",end=\" \")\n",
    "    print()"
   ]
  },
  {
   "cell_type": "code",
   "execution_count": 44,
   "metadata": {},
   "outputs": [
    {
     "name": "stdout",
     "output_type": "stream",
     "text": [
      "                              \n",
      "                            * \n",
      "                          * * \n",
      "                        * * * \n",
      "                      * * * * \n",
      "                    * * * * * \n",
      "                  * * * * * * \n",
      "                * * * * * * * \n",
      "              * * * * * * * * \n",
      "            * * * * * * * * * \n",
      "          * * * * * * * * * * \n",
      "        * * * * * * * * * * * \n",
      "      * * * * * * * * * * * * \n",
      "    * * * * * * * * * * * * * \n",
      "  * * * * * * * * * * * * * * \n",
      "* * * * * * * * * * * * * * * \n",
      "  * * * * * * * * * * * * * * \n",
      "    * * * * * * * * * * * * * \n",
      "      * * * * * * * * * * * * \n",
      "        * * * * * * * * * * * \n",
      "          * * * * * * * * * * \n",
      "            * * * * * * * * * \n",
      "              * * * * * * * * \n",
      "                * * * * * * * \n",
      "                  * * * * * * \n",
      "                    * * * * * \n",
      "                      * * * * \n",
      "                        * * * \n",
      "                          * * \n",
      "                            * \n",
      "                              \n"
     ]
    }
   ],
   "source": [
    "for i in range(n):\n",
    "    space = n-i\n",
    "    for sp in range(space):\n",
    "        print(end='  ')\n",
    "    for j in range(i):\n",
    "        print(\"*\",end=' ')\n",
    "    print()\n",
    "space = 0\n",
    "for i in range(n,-1,-1):\n",
    "    for sp in range(space):\n",
    "        print(end='  ')\n",
    "    space+=1\n",
    "    for j in range(i):\n",
    "        print(\"*\",end=' ')\n",
    "    print()"
   ]
  },
  {
   "cell_type": "code",
   "execution_count": 75,
   "metadata": {},
   "outputs": [
    {
     "name": "stdout",
     "output_type": "stream",
     "text": [
      "* * * * * * * * * * * * * * * * * * * * * * * * * * * * * * \n",
      "* * * * * * * * * * * * * *     * * * * * * * * * * * * * * \n",
      "* * * * * * * * * * * * *         * * * * * * * * * * * * * \n",
      "* * * * * * * * * * * *             * * * * * * * * * * * * \n",
      "* * * * * * * * * * *                 * * * * * * * * * * * \n",
      "* * * * * * * * * *                     * * * * * * * * * * \n",
      "* * * * * * * * *                         * * * * * * * * * \n",
      "* * * * * * * *                             * * * * * * * * \n",
      "* * * * * * *                                 * * * * * * * \n",
      "* * * * * *                                     * * * * * * \n",
      "* * * * *                                         * * * * * \n",
      "* * * *                                             * * * * \n",
      "* * *                                                 * * * \n",
      "* *                                                     * * \n",
      "*                                                         * \n",
      "                                                            \n",
      "*                                                         * \n",
      "* *                                                     * * \n",
      "* * *                                                 * * * \n",
      "* * * *                                             * * * * \n",
      "* * * * *                                         * * * * * \n",
      "* * * * * *                                     * * * * * * \n",
      "* * * * * * *                                 * * * * * * * \n",
      "* * * * * * * *                             * * * * * * * * \n",
      "* * * * * * * * *                         * * * * * * * * * \n",
      "* * * * * * * * * *                     * * * * * * * * * * \n",
      "* * * * * * * * * * *                 * * * * * * * * * * * \n",
      "* * * * * * * * * * * *             * * * * * * * * * * * * \n",
      "* * * * * * * * * * * * *         * * * * * * * * * * * * * \n",
      "* * * * * * * * * * * * * *     * * * * * * * * * * * * * * \n",
      "* * * * * * * * * * * * * * * * * * * * * * * * * * * * * * \n"
     ]
    }
   ],
   "source": [
    "space = 1\n",
    "for i in range(2*n+1):\n",
    "    if i<=n:\n",
    "        for j in range(n-i):\n",
    "            print(\"*\",end=' ')\n",
    "        for k in range(i*2):\n",
    "            print(end='  ')\n",
    "        for l in range(n-i):\n",
    "            print(\"*\",end=' ')\n",
    "        print()\n",
    "    else:\n",
    "        for j in range(i-n):\n",
    "            print(\"*\",end=' ')\n",
    "        for k in range(2*n-space-1):\n",
    "            print(end='  ')\n",
    "        space+=2\n",
    "        for l in range(i-n):\n",
    "            print(\"*\",end=' ')\n",
    "        print()"
   ]
  },
  {
   "cell_type": "code",
   "execution_count": 100,
   "metadata": {},
   "outputs": [
    {
     "name": "stdout",
     "output_type": "stream",
     "text": [
      "               *               \n",
      "              ***              \n",
      "             *****             \n",
      "            *******            \n",
      "           *********           \n",
      "          ***********          \n",
      "         *************         \n",
      "        ***************        \n",
      "       *****************       \n",
      "      *******************      \n",
      "     *********************     \n",
      "    ***********************    \n",
      "   *************************   \n",
      "  ***************************  \n",
      " ***************************** \n",
      "*******************************\n",
      " ***************************** \n",
      "  ***************************  \n",
      "   *************************   \n",
      "    ***********************    \n",
      "     *********************     \n",
      "      *******************      \n",
      "       *****************       \n",
      "        ***************        \n",
      "         *************         \n",
      "          ***********          \n",
      "           *********           \n",
      "            *******            \n",
      "             *****             \n",
      "              ***              \n",
      "               *               \n"
     ]
    }
   ],
   "source": [
    "space = 1\n",
    "for i in range(2*n+1):\n",
    "    if i<=n:\n",
    "        for j in range(n-i):\n",
    "            print(end=' ')\n",
    "        for k in range(i*2+1):\n",
    "            print(end='*')\n",
    "        for l in range(n-i):\n",
    "            print(end=' ')\n",
    "        print()\n",
    "    else:\n",
    "        for j in range(i-n):\n",
    "            print(end=' ')\n",
    "        for k in range(2*n-space):\n",
    "            print(end='*')\n",
    "        space+=2\n",
    "        for l in range(i-n):\n",
    "            print(end=' ')\n",
    "        print()"
   ]
  },
  {
   "cell_type": "markdown",
   "metadata": {},
   "source": [
    "##### list & tuples"
   ]
  },
  {
   "cell_type": "code",
   "execution_count": 130,
   "metadata": {},
   "outputs": [],
   "source": [
    "a = ['foo', 'bar', 'baz', 'qux']\n",
    "b = ['baz', 'qux', 'bar', 'foo']"
   ]
  },
  {
   "cell_type": "code",
   "execution_count": 107,
   "metadata": {},
   "outputs": [
    {
     "data": {
      "text/plain": [
       "False"
      ]
     },
     "execution_count": 107,
     "metadata": {},
     "output_type": "execute_result"
    }
   ],
   "source": [
    "a==b"
   ]
  },
  {
   "cell_type": "code",
   "execution_count": 108,
   "metadata": {},
   "outputs": [
    {
     "data": {
      "text/plain": [
       "False"
      ]
     },
     "execution_count": 108,
     "metadata": {},
     "output_type": "execute_result"
    }
   ],
   "source": [
    "a is b"
   ]
  },
  {
   "cell_type": "code",
   "execution_count": 109,
   "metadata": {},
   "outputs": [
    {
     "data": {
      "text/plain": [
       "False"
      ]
     },
     "execution_count": 109,
     "metadata": {},
     "output_type": "execute_result"
    }
   ],
   "source": [
    "a = [1,2,3]\n",
    "b = [1,2]\n",
    "a==b"
   ]
  },
  {
   "cell_type": "code",
   "execution_count": 111,
   "metadata": {},
   "outputs": [
    {
     "data": {
      "text/plain": [
       "False"
      ]
     },
     "execution_count": 111,
     "metadata": {},
     "output_type": "execute_result"
    }
   ],
   "source": [
    "a is b"
   ]
  },
  {
   "cell_type": "code",
   "execution_count": 112,
   "metadata": {},
   "outputs": [],
   "source": [
    "a = [1,2,3]\n",
    "b = [1,2,3]"
   ]
  },
  {
   "cell_type": "code",
   "execution_count": 113,
   "metadata": {},
   "outputs": [
    {
     "data": {
      "text/plain": [
       "True"
      ]
     },
     "execution_count": 113,
     "metadata": {},
     "output_type": "execute_result"
    }
   ],
   "source": [
    "a == b"
   ]
  },
  {
   "cell_type": "code",
   "execution_count": 114,
   "metadata": {},
   "outputs": [
    {
     "data": {
      "text/plain": [
       "False"
      ]
     },
     "execution_count": 114,
     "metadata": {},
     "output_type": "execute_result"
    }
   ],
   "source": [
    "a is b"
   ]
  },
  {
   "cell_type": "code",
   "execution_count": 115,
   "metadata": {},
   "outputs": [
    {
     "data": {
      "text/plain": [
       "[1, 2]"
      ]
     },
     "execution_count": 115,
     "metadata": {},
     "output_type": "execute_result"
    }
   ],
   "source": [
    "a[:2]"
   ]
  },
  {
   "cell_type": "code",
   "execution_count": 116,
   "metadata": {},
   "outputs": [
    {
     "data": {
      "text/plain": [
       "[1, 2]"
      ]
     },
     "execution_count": 116,
     "metadata": {},
     "output_type": "execute_result"
    }
   ],
   "source": [
    "a[:-1]"
   ]
  },
  {
   "cell_type": "code",
   "execution_count": 122,
   "metadata": {},
   "outputs": [
    {
     "data": {
      "text/plain": [
       "[1, 2]"
      ]
     },
     "execution_count": 122,
     "metadata": {},
     "output_type": "execute_result"
    }
   ],
   "source": [
    "a[0:-1]"
   ]
  },
  {
   "cell_type": "code",
   "execution_count": 120,
   "metadata": {},
   "outputs": [
    {
     "data": {
      "text/plain": [
       "[3]"
      ]
     },
     "execution_count": 120,
     "metadata": {},
     "output_type": "execute_result"
    }
   ],
   "source": [
    "a[-1:]"
   ]
  },
  {
   "cell_type": "code",
   "execution_count": 121,
   "metadata": {},
   "outputs": [
    {
     "data": {
      "text/plain": [
       "[1, 2, 3]"
      ]
     },
     "execution_count": 121,
     "metadata": {},
     "output_type": "execute_result"
    }
   ],
   "source": [
    "a[:]"
   ]
  },
  {
   "cell_type": "code",
   "execution_count": 131,
   "metadata": {},
   "outputs": [
    {
     "data": {
      "text/plain": [
       "['foo', 'bar']"
      ]
     },
     "execution_count": 131,
     "metadata": {},
     "output_type": "execute_result"
    }
   ],
   "source": [
    "a[:-2]"
   ]
  },
  {
   "cell_type": "code",
   "execution_count": 132,
   "metadata": {},
   "outputs": [
    {
     "data": {
      "text/plain": [
       "['baz', 'qux']"
      ]
     },
     "execution_count": 132,
     "metadata": {},
     "output_type": "execute_result"
    }
   ],
   "source": [
    "a[-2:]"
   ]
  },
  {
   "cell_type": "code",
   "execution_count": 133,
   "metadata": {},
   "outputs": [
    {
     "data": {
      "text/plain": [
       "['bar', 'baz']"
      ]
     },
     "execution_count": 133,
     "metadata": {},
     "output_type": "execute_result"
    }
   ],
   "source": [
    "a[1:3]"
   ]
  },
  {
   "cell_type": "code",
   "execution_count": 134,
   "metadata": {},
   "outputs": [
    {
     "data": {
      "text/plain": [
       "['bar', 'baz']"
      ]
     },
     "execution_count": 134,
     "metadata": {},
     "output_type": "execute_result"
    }
   ],
   "source": [
    "a[-3:-1]"
   ]
  },
  {
   "cell_type": "code",
   "execution_count": 135,
   "metadata": {},
   "outputs": [
    {
     "data": {
      "text/plain": [
       "True"
      ]
     },
     "execution_count": 135,
     "metadata": {},
     "output_type": "execute_result"
    }
   ],
   "source": [
    "a[-3:-1] == a[1:3]"
   ]
  },
  {
   "cell_type": "code",
   "execution_count": 136,
   "metadata": {},
   "outputs": [
    {
     "data": {
      "text/plain": [
       "False"
      ]
     },
     "execution_count": 136,
     "metadata": {},
     "output_type": "execute_result"
    }
   ],
   "source": [
    "a[-3:-1] is a[1:3]"
   ]
  },
  {
   "cell_type": "code",
   "execution_count": 150,
   "metadata": {},
   "outputs": [],
   "source": [
    "a = [1,2,3,4,5,6,7,8,9]"
   ]
  },
  {
   "cell_type": "code",
   "execution_count": 151,
   "metadata": {},
   "outputs": [
    {
     "data": {
      "text/plain": [
       "[1, 2, 3, 4, 5, 6, 7, 8, 9]"
      ]
     },
     "execution_count": 151,
     "metadata": {},
     "output_type": "execute_result"
    }
   ],
   "source": [
    "a"
   ]
  },
  {
   "cell_type": "code",
   "execution_count": 152,
   "metadata": {},
   "outputs": [],
   "source": [
    "b = a[:4] + a[4:]"
   ]
  },
  {
   "cell_type": "code",
   "execution_count": 153,
   "metadata": {},
   "outputs": [
    {
     "data": {
      "text/plain": [
       "[1, 2, 3, 4, 5, 6, 7, 8, 9]"
      ]
     },
     "execution_count": 153,
     "metadata": {},
     "output_type": "execute_result"
    }
   ],
   "source": [
    "b"
   ]
  },
  {
   "cell_type": "code",
   "execution_count": 154,
   "metadata": {},
   "outputs": [
    {
     "data": {
      "text/plain": [
       "False"
      ]
     },
     "execution_count": 154,
     "metadata": {},
     "output_type": "execute_result"
    }
   ],
   "source": [
    "b is a"
   ]
  },
  {
   "cell_type": "code",
   "execution_count": 155,
   "metadata": {},
   "outputs": [
    {
     "data": {
      "text/plain": [
       "True"
      ]
     },
     "execution_count": 155,
     "metadata": {},
     "output_type": "execute_result"
    }
   ],
   "source": [
    "b == a"
   ]
  },
  {
   "cell_type": "code",
   "execution_count": 156,
   "metadata": {},
   "outputs": [],
   "source": [
    "b = a[:4] + a[2:]"
   ]
  },
  {
   "cell_type": "code",
   "execution_count": 157,
   "metadata": {},
   "outputs": [
    {
     "data": {
      "text/plain": [
       "[1, 2, 3, 4, 3, 4, 5, 6, 7, 8, 9]"
      ]
     },
     "execution_count": 157,
     "metadata": {},
     "output_type": "execute_result"
    }
   ],
   "source": [
    "b"
   ]
  },
  {
   "cell_type": "code",
   "execution_count": 158,
   "metadata": {},
   "outputs": [
    {
     "data": {
      "text/plain": [
       "[1, 2, 3, 4, 5, 6, 7, 8, 9]"
      ]
     },
     "execution_count": 158,
     "metadata": {},
     "output_type": "execute_result"
    }
   ],
   "source": [
    "a"
   ]
  },
  {
   "cell_type": "code",
   "execution_count": 148,
   "metadata": {},
   "outputs": [],
   "source": [
    "del a"
   ]
  },
  {
   "cell_type": "code",
   "execution_count": 149,
   "metadata": {},
   "outputs": [
    {
     "ename": "NameError",
     "evalue": "name 'a' is not defined",
     "output_type": "error",
     "traceback": [
      "\u001b[1;31m---------------------------------------------------------------------------\u001b[0m",
      "\u001b[1;31mNameError\u001b[0m                                 Traceback (most recent call last)",
      "\u001b[1;32m<ipython-input-149-3f786850e387>\u001b[0m in \u001b[0;36m<module>\u001b[1;34m\u001b[0m\n\u001b[1;32m----> 1\u001b[1;33m \u001b[0ma\u001b[0m\u001b[1;33m\u001b[0m\u001b[1;33m\u001b[0m\u001b[0m\n\u001b[0m",
      "\u001b[1;31mNameError\u001b[0m: name 'a' is not defined"
     ]
    }
   ],
   "source": [
    "a"
   ]
  },
  {
   "cell_type": "code",
   "execution_count": 159,
   "metadata": {},
   "outputs": [
    {
     "data": {
      "text/plain": [
       "[1, 2, 3, 4, 5, 6, 7, 8]"
      ]
     },
     "execution_count": 159,
     "metadata": {},
     "output_type": "execute_result"
    }
   ],
   "source": [
    "del a[-1]\n",
    "a"
   ]
  },
  {
   "cell_type": "code",
   "execution_count": 162,
   "metadata": {},
   "outputs": [
    {
     "ename": "IndexError",
     "evalue": "list assignment index out of range",
     "output_type": "error",
     "traceback": [
      "\u001b[1;31m---------------------------------------------------------------------------\u001b[0m",
      "\u001b[1;31mIndexError\u001b[0m                                Traceback (most recent call last)",
      "\u001b[1;32m<ipython-input-162-613b05056f47>\u001b[0m in \u001b[0;36m<module>\u001b[1;34m\u001b[0m\n\u001b[1;32m----> 1\u001b[1;33m \u001b[1;32mdel\u001b[0m \u001b[0ma\u001b[0m\u001b[1;33m[\u001b[0m\u001b[1;36m11\u001b[0m\u001b[1;33m]\u001b[0m\u001b[1;33m\u001b[0m\u001b[1;33m\u001b[0m\u001b[0m\n\u001b[0m",
      "\u001b[1;31mIndexError\u001b[0m: list assignment index out of range"
     ]
    }
   ],
   "source": [
    "del a[11]"
   ]
  },
  {
   "cell_type": "code",
   "execution_count": 163,
   "metadata": {},
   "outputs": [
    {
     "data": {
      "text/plain": [
       "[1, 2, 3, 4, 5, 6, 7, 8]"
      ]
     },
     "execution_count": 163,
     "metadata": {},
     "output_type": "execute_result"
    }
   ],
   "source": [
    "a"
   ]
  },
  {
   "cell_type": "code",
   "execution_count": 164,
   "metadata": {},
   "outputs": [],
   "source": [
    "a = a*2"
   ]
  },
  {
   "cell_type": "code",
   "execution_count": 165,
   "metadata": {},
   "outputs": [
    {
     "data": {
      "text/plain": [
       "[1, 2, 3, 4, 5, 6, 7, 8, 1, 2, 3, 4, 5, 6, 7, 8]"
      ]
     },
     "execution_count": 165,
     "metadata": {},
     "output_type": "execute_result"
    }
   ],
   "source": [
    "a"
   ]
  },
  {
   "cell_type": "code",
   "execution_count": 166,
   "metadata": {},
   "outputs": [],
   "source": [
    "a = [a]*2"
   ]
  },
  {
   "cell_type": "code",
   "execution_count": 167,
   "metadata": {},
   "outputs": [
    {
     "data": {
      "text/plain": [
       "[[1, 2, 3, 4, 5, 6, 7, 8, 1, 2, 3, 4, 5, 6, 7, 8],\n",
       " [1, 2, 3, 4, 5, 6, 7, 8, 1, 2, 3, 4, 5, 6, 7, 8]]"
      ]
     },
     "execution_count": 167,
     "metadata": {},
     "output_type": "execute_result"
    }
   ],
   "source": [
    "a"
   ]
  },
  {
   "cell_type": "code",
   "execution_count": 168,
   "metadata": {},
   "outputs": [],
   "source": [
    "b = [1,2,3,4,5]\n",
    "b = b[:3]*2"
   ]
  },
  {
   "cell_type": "code",
   "execution_count": 169,
   "metadata": {},
   "outputs": [
    {
     "data": {
      "text/plain": [
       "[1, 2, 3, 1, 2, 3]"
      ]
     },
     "execution_count": 169,
     "metadata": {},
     "output_type": "execute_result"
    }
   ],
   "source": [
    "b"
   ]
  },
  {
   "cell_type": "code",
   "execution_count": 171,
   "metadata": {},
   "outputs": [
    {
     "data": {
      "text/plain": [
       "[1, 2, 3, 1, 2, 3, 5, 5, 5, 5, 5]"
      ]
     },
     "execution_count": 171,
     "metadata": {},
     "output_type": "execute_result"
    }
   ],
   "source": [
    "b = b+[5,5,5,5,5]\n",
    "b"
   ]
  },
  {
   "cell_type": "code",
   "execution_count": 172,
   "metadata": {},
   "outputs": [
    {
     "data": {
      "text/plain": [
       "[1, 2, 3, 1, 2, 3, 5, 5, 5, 5, 5, [7, 7, 7, 7, 7, 7]]"
      ]
     },
     "execution_count": 172,
     "metadata": {},
     "output_type": "execute_result"
    }
   ],
   "source": [
    "b = b+[[7,7,7,7,7,7]] ## same as append but not extends\n",
    "b"
   ]
  },
  {
   "cell_type": "code",
   "execution_count": 173,
   "metadata": {},
   "outputs": [
    {
     "data": {
      "text/plain": [
       "[1, 2, 3, 1, 2, 3, 5, 5, 5, 5, 5, [7, 7, 7, 7, 7, 7], 'praveeb', 'dbj']"
      ]
     },
     "execution_count": 173,
     "metadata": {},
     "output_type": "execute_result"
    }
   ],
   "source": [
    "b = b + ['praveeb','dbj']\n",
    "b"
   ]
  },
  {
   "cell_type": "code",
   "execution_count": 174,
   "metadata": {},
   "outputs": [
    {
     "ename": "TypeError",
     "evalue": "'int' object is not iterable",
     "output_type": "error",
     "traceback": [
      "\u001b[1;31m---------------------------------------------------------------------------\u001b[0m",
      "\u001b[1;31mTypeError\u001b[0m                                 Traceback (most recent call last)",
      "\u001b[1;32m<ipython-input-174-bd47958f47c9>\u001b[0m in \u001b[0;36m<module>\u001b[1;34m\u001b[0m\n\u001b[1;32m----> 1\u001b[1;33m \u001b[0mb\u001b[0m \u001b[1;33m+=\u001b[0m\u001b[1;36m99\u001b[0m\u001b[1;33m\u001b[0m\u001b[1;33m\u001b[0m\u001b[0m\n\u001b[0m",
      "\u001b[1;31mTypeError\u001b[0m: 'int' object is not iterable"
     ]
    }
   ],
   "source": [
    "b +=99 ## integer is not iterable but strings are"
   ]
  },
  {
   "cell_type": "code",
   "execution_count": 175,
   "metadata": {},
   "outputs": [],
   "source": [
    "b+=[99]"
   ]
  },
  {
   "cell_type": "code",
   "execution_count": 176,
   "metadata": {},
   "outputs": [
    {
     "data": {
      "text/plain": [
       "[1, 2, 3, 1, 2, 3, 5, 5, 5, 5, 5, [7, 7, 7, 7, 7, 7], 'praveeb', 'dbj', 99]"
      ]
     },
     "execution_count": 176,
     "metadata": {},
     "output_type": "execute_result"
    }
   ],
   "source": [
    "b"
   ]
  },
  {
   "cell_type": "code",
   "execution_count": 180,
   "metadata": {},
   "outputs": [],
   "source": [
    "a = [12,3,6,54,5,56]"
   ]
  },
  {
   "cell_type": "code",
   "execution_count": 181,
   "metadata": {},
   "outputs": [
    {
     "data": {
      "text/plain": [
       "[12, 3, 6, 54, 5, 56]"
      ]
     },
     "execution_count": 181,
     "metadata": {},
     "output_type": "execute_result"
    }
   ],
   "source": [
    "a"
   ]
  },
  {
   "cell_type": "code",
   "execution_count": 182,
   "metadata": {},
   "outputs": [
    {
     "data": {
      "text/plain": [
       "[12, 3, 6, 54, 5, 56, 'P', 'r', 'a', 'v', 'e', 'e', 'n']"
      ]
     },
     "execution_count": 182,
     "metadata": {},
     "output_type": "execute_result"
    }
   ],
   "source": [
    "a +='Praveen'\n",
    "a"
   ]
  },
  {
   "cell_type": "code",
   "execution_count": 183,
   "metadata": {},
   "outputs": [],
   "source": [
    "a+= ('Prave',)"
   ]
  },
  {
   "cell_type": "code",
   "execution_count": 184,
   "metadata": {},
   "outputs": [
    {
     "data": {
      "text/plain": [
       "[12, 3, 6, 54, 5, 56, 'P', 'r', 'a', 'v', 'e', 'e', 'n', 'Prave']"
      ]
     },
     "execution_count": 184,
     "metadata": {},
     "output_type": "execute_result"
    }
   ],
   "source": [
    "a"
   ]
  },
  {
   "cell_type": "code",
   "execution_count": 185,
   "metadata": {},
   "outputs": [
    {
     "data": {
      "text/plain": [
       "[12,\n",
       " 3,\n",
       " 6,\n",
       " 54,\n",
       " 5,\n",
       " 56,\n",
       " 'P',\n",
       " 'r',\n",
       " 'a',\n",
       " 'v',\n",
       " 'e',\n",
       " 'e',\n",
       " 'n',\n",
       " 'Prave',\n",
       " 1,\n",
       " 2,\n",
       " 3,\n",
       " 'prg',\n",
       " <function len(obj, /)>]"
      ]
     },
     "execution_count": 185,
     "metadata": {},
     "output_type": "execute_result"
    }
   ],
   "source": [
    "b = (1,2,3,'prg',len)\n",
    "a+=b\n",
    "a"
   ]
  },
  {
   "cell_type": "code",
   "execution_count": 208,
   "metadata": {},
   "outputs": [
    {
     "name": "stdout",
     "output_type": "stream",
     "text": [
      "Number of inputs: 5\n",
      "Enter  5  Numbers: \n",
      "3\n",
      "4\n",
      "5\n",
      "6\n",
      "7\n",
      "Primes numbers are :  [3, 5, 7]\n",
      "Non-Prime numbers are :  [4, 6]\n"
     ]
    }
   ],
   "source": [
    "n = int(input(\"Number of inputs: \"))\n",
    "primes = []\n",
    "normal_list = []\n",
    "print(\"Enter \",n,\" Numbers: \")\n",
    "for j in range(n):\n",
    "    i = int(input())\n",
    "    if check_prime(i)==True:\n",
    "        primes.append(i)\n",
    "    else:\n",
    "        normal_list.append(i)\n",
    "\n",
    "print(\"Primes numbers are : \",primes)\n",
    "print(\"Non-Prime numbers are : \",normal_list)"
   ]
  },
  {
   "cell_type": "code",
   "execution_count": 209,
   "metadata": {},
   "outputs": [],
   "source": [
    "n  = 10"
   ]
  },
  {
   "cell_type": "code",
   "execution_count": 215,
   "metadata": {},
   "outputs": [
    {
     "name": "stdout",
     "output_type": "stream",
     "text": [
      " **********\n",
      "  *        *\n",
      "   *        *\n",
      "    *        *\n",
      "     *        *\n",
      "      *        *\n",
      "       *        *\n",
      "        *        *\n",
      "         *        *\n",
      "          *        *\n",
      "           **********\n"
     ]
    }
   ],
   "source": [
    "out_space = 1\n",
    "inner_space = n-2\n",
    "for i in range(n+1):\n",
    "    if i%n==0:\n",
    "        for i in range(out_space):\n",
    "            print(end=' ')\n",
    "        out_space+=1;\n",
    "        for i in range(n):\n",
    "            print(\"*\",end='')\n",
    "        print()\n",
    "    else:\n",
    "        for k in range(out_space):\n",
    "            print(end=' ')\n",
    "        print(\"*\",end='')\n",
    "        out_space+=1\n",
    "        for j in range(inner_space):\n",
    "            print(end=' ')\n",
    "        print(\"*\",end='')\n",
    "        print()"
   ]
  },
  {
   "cell_type": "code",
   "execution_count": 245,
   "metadata": {},
   "outputs": [],
   "source": [
    "students = {}"
   ]
  },
  {
   "cell_type": "code",
   "execution_count": 280,
   "metadata": {},
   "outputs": [
    {
     "name": "stdout",
     "output_type": "stream",
     "text": [
      "Number of students : 1\n"
     ]
    }
   ],
   "source": [
    "n = int(input(\"Number of students : \"))"
   ]
  },
  {
   "cell_type": "code",
   "execution_count": 281,
   "metadata": {},
   "outputs": [
    {
     "name": "stdout",
     "output_type": "stream",
     "text": [
      "Enter number of subjects: 1\n"
     ]
    }
   ],
   "source": [
    "no_subs = int(input(\"Enter number of subjects: \"))"
   ]
  },
  {
   "cell_type": "code",
   "execution_count": 282,
   "metadata": {},
   "outputs": [],
   "source": [
    "studentavg = {}"
   ]
  },
  {
   "cell_type": "code",
   "execution_count": 283,
   "metadata": {},
   "outputs": [
    {
     "name": "stdout",
     "output_type": "stream",
     "text": [
      "\n",
      "Enter Student  1  details: \n",
      "Name : PRAVEEN KUMAR\n",
      "Enter  PRAVEEN KUMAR 's subject details.\n",
      "Name of Subject  1 : \n",
      "HINDI\n",
      "Marks of subject  1 : \n",
      "100\n"
     ]
    }
   ],
   "source": [
    "for i in range(n):\n",
    "    print()\n",
    "    print(\"Enter Student \",i+1,\" details: \")\n",
    "    name = input(\"Name : \")\n",
    "    avg = []\n",
    "    student = {}\n",
    "    sum_marks = 0\n",
    "    print(\"Enter \",name,\"'s subject details.\")\n",
    "    for j in range(no_subs):\n",
    "        print(\"Name of Subject \",j+1,\": \")\n",
    "        sub = input()\n",
    "        print(\"Marks of subject \",j+1,\": \")\n",
    "        mrk = int(input())\n",
    "        student[sub]=mrk\n",
    "        sum_marks+=mrk\n",
    "    avg.append(sum_marks/no_subs)\n",
    "    students[name]=student\n",
    "    studentavg[name]=avg"
   ]
  },
  {
   "cell_type": "code",
   "execution_count": 284,
   "metadata": {},
   "outputs": [
    {
     "data": {
      "text/plain": [
       "{'PRAVEEN KUMAR': {'HINDI': 100},\n",
       " 'KRITIK ALAWAT': {'MATHS': 100, 'SCIENCE': 100}}"
      ]
     },
     "execution_count": 284,
     "metadata": {},
     "output_type": "execute_result"
    }
   ],
   "source": [
    "students"
   ]
  },
  {
   "cell_type": "code",
   "execution_count": 285,
   "metadata": {},
   "outputs": [
    {
     "data": {
      "text/plain": [
       "{'PRAVEEN KUMAR': [100.0]}"
      ]
     },
     "execution_count": 285,
     "metadata": {},
     "output_type": "execute_result"
    }
   ],
   "source": [
    "studentavg"
   ]
  },
  {
   "cell_type": "code",
   "execution_count": 277,
   "metadata": {},
   "outputs": [
    {
     "name": "stdout",
     "output_type": "stream",
     "text": [
      "Enter a character sequence: adbchsowergubabcdef\n"
     ]
    }
   ],
   "source": [
    "input_string = input(\"Enter a character sequence: \")"
   ]
  },
  {
   "cell_type": "code",
   "execution_count": 5,
   "metadata": {},
   "outputs": [
    {
     "name": "stdout",
     "output_type": "stream",
     "text": [
      "['a', 'c', 'b', 'w', 'efg', 'bc', 'h', 'd', 'abcd']\n",
      "['a', 'c', 'b', 'w', 'efg', 'bc', 'h', 'd', 'abcd']\n",
      "['a', 'c', 'b', 'w', 'efg', 'bc', 'h', 'd', 'abcd']\n",
      "['a', 'c', 'b', 'w', 'efg', 'bc', 'h', 'd', 'abcd']\n",
      "['a', 'c', 'b', 'w', 'efg', 'bc', 'h', 'd', 'abcd']\n",
      "['a', 'c', 'b', 'w', 'efg', 'bc', 'h', 'd', 'abcd']\n",
      "['a', 'c', 'b', 'w', 'efg', 'bc', 'h', 'd', 'abcd']\n",
      "['a', 'c', 'b', 'w', 'efg', 'bc', 'h', 'd', 'abcd']\n",
      "['a', 'c', 'b', 'w', 'efg', 'bc', 'h', 'd', 'abcd']\n",
      "['a', 'c', 'b', 'w', 'efg', 'bc', 'h', 'd', 'abcd']\n",
      "0.0008865999989211559\n"
     ]
    }
   ],
   "source": [
    "import timeit\n",
    "setup = \"\"\"\\\n",
    "input_string = \"acbwefgbchdabcd\"\n",
    "solution = []\n",
    "start = 0\n",
    "end = 0\n",
    "\"\"\"\n",
    "\n",
    "statement = \"\"\"\n",
    "for i in input_string:\n",
    "    while end < len(input_string) and ord(input_string[end])-ord(input_string[end-1]) == 1:\n",
    "        end+=1\n",
    "    if input_string[start:end]:\n",
    "        solution.append(input_string[start:end])\n",
    "    start = end\n",
    "    end = start+1\n",
    "    if end==len(input_string)-1:\n",
    "        break;\n",
    "print(solution)\n",
    "\"\"\"\n",
    "print(timeit.timeit(statement,setup,number=10))"
   ]
  },
  {
   "cell_type": "code",
   "execution_count": null,
   "metadata": {},
   "outputs": [],
   "source": [
    "def fib(limit):\n",
    "    a=0\n",
    "    b=1\n",
    "    while True:\n",
    "        yield a\n",
    "        a,b = b,a+b\n",
    "n = int(input())\n",
    "x = fib(n)\n",
    "for i in range(n):\n",
    "    print(next(x),end=' ')"
   ]
  },
  {
   "cell_type": "code",
   "execution_count": 48,
   "metadata": {},
   "outputs": [
    {
     "name": "stdout",
     "output_type": "stream",
     "text": [
      "Enter a number : 15\n",
      "Solution : fizz buzz\n"
     ]
    }
   ],
   "source": [
    "def pgm1(number: int):\n",
    "    if number%3==0:\n",
    "        if number%5==0:\n",
    "            return \"fizz buzz\"\n",
    "        else:\n",
    "            return \"fizz\"\n",
    "    elif number%5==0:\n",
    "        return \"buzz\"\n",
    "    else:\n",
    "        return \" \"\n",
    "print(\"Solution :\",pgm1(int(input(\"Enter a number : \"))))"
   ]
  },
  {
   "cell_type": "code",
   "execution_count": 37,
   "metadata": {},
   "outputs": [
    {
     "name": "stdout",
     "output_type": "stream",
     "text": [
      "Enter a string: prsvyu1241wekfgukw\n",
      "Ignored characters are :   1 4 2 1\n",
      "Reversed string is : wkugfkewuyvsrp\n"
     ]
    }
   ],
   "source": [
    "def pgm2(string: str):\n",
    "    solution = \"\"\n",
    "    ignored = \"\"\n",
    "    string = string.lower()\n",
    "    for character in string[::-1]:\n",
    "        if character>='a' and character<='z':\n",
    "            solution+=character\n",
    "        else:\n",
    "            ignored+=\" \"+character\n",
    "    print(\"Ignored characters are : \",ignored)\n",
    "    return solution\n",
    "print(\"Reversed string is :\",pgm2(input(\"Enter a string: \")))"
   ]
  },
  {
   "cell_type": "code",
   "execution_count": 38,
   "metadata": {},
   "outputs": [
    {
     "name": "stdout",
     "output_type": "stream",
     "text": [
      "Enter a string: prvaSDG23RBBKBdksfbwk\n",
      "Ignored characters are :   2 3\n",
      "Alphabet positions are:   16 18 22 1 19 4 7 18 2 2 11 2 4 11 19 6 2 23 11\n"
     ]
    }
   ],
   "source": [
    "def build_dictionary():\n",
    "    dictionary = {}\n",
    "    j=97\n",
    "    for i in range(1,27):\n",
    "        dictionary[chr(j)]=i\n",
    "        j+=1\n",
    "    return dictionary\n",
    "\n",
    "def alphabet_position(string: str):\n",
    "    solution = \"\"\n",
    "    ignored = \"\"\n",
    "    string = string.lower()\n",
    "    d = build_dictionary()\n",
    "    all_possible = d.keys()\n",
    "    for character in string:\n",
    "        if character in all_possible:\n",
    "            solution+=\" \"+str(d[character])\n",
    "        else:\n",
    "            ignored += \" \"+character\n",
    "    print(\"Ignored characters are : \",ignored)\n",
    "    return solution\n",
    "print(\"Alphabet positions are: \",alphabet_position(input(\"Enter a string: \")))"
   ]
  },
  {
   "cell_type": "code",
   "execution_count": 39,
   "metadata": {},
   "outputs": [
    {
     "name": "stdout",
     "output_type": "stream",
     "text": [
      "Enter a 0/1 array: [0,1,1,1,0,1]\n",
      "29\n"
     ]
    }
   ],
   "source": [
    "def pgm4(arr: list):\n",
    "    final_sum = 0\n",
    "    for ind,val in enumerate(arr[::-1]):\n",
    "        if val==1:\n",
    "            final_sum += 2**ind\n",
    "    return final_sum\n",
    "\n",
    "raw_input = input(\"Enter a 0/1 array: \").split()[0]\n",
    "\n",
    "main_input = []\n",
    "for val in raw_input[1:]:\n",
    "    if val!=']' and val!=',':\n",
    "        main_input.append(int(val))\n",
    "print(\"Sum is: \",pgm4(main_input))"
   ]
  },
  {
   "cell_type": "code",
   "execution_count": 49,
   "metadata": {},
   "outputs": [
    {
     "name": "stdout",
     "output_type": "stream",
     "text": [
      "Enter a number: 111\n",
      "111\n",
      "111\n",
      "111\n",
      "111\n",
      "111\n",
      "111\n"
     ]
    }
   ],
   "source": [
    "def pgm5(string:str, index: int , length: int): \n",
    "    if index==length:\n",
    "        print(''.join(string) )\n",
    "    else:\n",
    "        for j in range(index,length):\n",
    "            string[index], string[j] = string[j], string[index] \n",
    "            pgm5(string, index+1, length) \n",
    "            string[index], string[j] = string[j], string[index]  \n",
    "\n",
    "num = input(\"Enter a number: \")\n",
    "length = len(num)\n",
    "number = list(num)\n",
    "pgm5(number, 0, length)"
   ]
  },
  {
   "cell_type": "code",
   "execution_count": null,
   "metadata": {},
   "outputs": [],
   "source": []
  }
 ],
 "metadata": {
  "kernelspec": {
   "display_name": "Python 3",
   "language": "python",
   "name": "python3"
  },
  "language_info": {
   "codemirror_mode": {
    "name": "ipython",
    "version": 3
   },
   "file_extension": ".py",
   "mimetype": "text/x-python",
   "name": "python",
   "nbconvert_exporter": "python",
   "pygments_lexer": "ipython3",
   "version": "3.7.4"
  }
 },
 "nbformat": 4,
 "nbformat_minor": 2
}
